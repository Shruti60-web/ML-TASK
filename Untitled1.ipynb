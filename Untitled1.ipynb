{
  "nbformat": 4,
  "nbformat_minor": 0,
  "metadata": {
    "colab": {
      "provenance": [],
      "mount_file_id": "1YyNh9Qa4Z0YNNdwXZsAIo5_D2TC4iEc2",
      "authorship_tag": "ABX9TyMXKaYIPpag14ilHaaUwXfc",
      "include_colab_link": true
    },
    "kernelspec": {
      "name": "python3",
      "display_name": "Python 3"
    },
    "language_info": {
      "name": "python"
    }
  },
  "cells": [
    {
      "cell_type": "markdown",
      "metadata": {
        "id": "view-in-github",
        "colab_type": "text"
      },
      "source": [
        "<a href=\"https://colab.research.google.com/github/Shruti60-web/ML-TASK/blob/main/Untitled1.ipynb\" target=\"_parent\"><img src=\"https://colab.research.google.com/assets/colab-badge.svg\" alt=\"Open In Colab\"/></a>"
      ]
    },
    {
      "cell_type": "code",
      "execution_count": null,
      "metadata": {
        "id": "M8RKaAfMLi3_"
      },
      "outputs": [],
      "source": [
        "import numpy as np\n",
        "import pandas as pd\n",
        "import matplotlib.pyplot as plt\n",
        "import seaborn as sns\n"
      ]
    },
    {
      "cell_type": "code",
      "source": [
        "train_data = pd.read_csv('/content/drive/MyDrive/train_data.csv')\n",
        "test_data = pd.read_csv('/content/drive/MyDrive/test_data.csv')\n"
      ],
      "metadata": {
        "id": "7DX0OQ81L11K"
      },
      "execution_count": null,
      "outputs": []
    },
    {
      "cell_type": "code",
      "source": [
        "X_train = train_data.drop('Survived', axis=1).values\n",
        "\n",
        "X_test = test_data.drop('Survived', axis=1).values\n",
        "y_test = test_data['Survived'].values\n"
      ],
      "metadata": {
        "id": "BQzq3qRyMMr2"
      },
      "execution_count": null,
      "outputs": []
    },
    {
      "cell_type": "code",
      "source": [
        "def sigmoid(z):\n",
        "    return 1 / (1 + np.exp(-z))\n",
        "\n",
        "def compute_cost(X, y, theta):\n",
        "    m = len(y)\n",
        "    h = sigmoid(np.dot(X, theta))\n",
        "    cost = -(1 / m) * np.sum(y * np.log(h) + (1 - y) * np.log(1 - h))\n",
        "    return cost\n",
        "\n",
        "def compute_gradient(X, y, theta):\n",
        "    m = len(y)\n",
        "    h = sigmoid(np.dot(X, theta))\n",
        "    gradient = (1 / m) * np.dot(X.T, (h - y))\n",
        "    return gradient\n",
        "\n",
        "def gradient_descent(X, y, theta, learning_rate, num_iterations):\n",
        "    cost_history = []\n",
        "\n",
        "    for i in range(num_iterations):\n",
        "        cost = compute_cost(X, y, theta)\n",
        "        gradient = compute_gradient(X, y, theta)\n",
        "        theta -= learning_rate * gradient\n",
        "        cost_history.append(cost)\n",
        "\n",
        "    return theta, cost_history\n",
        "\n",
        "\n",
        "theta = np.zeros(X_train.shape[1])\n",
        "learning_rate = 0.01\n",
        "num_iterations = 1000\n",
        "\n",
        "\n",
        "theta, cost_history = gradient_descent(X_train, y_train, theta, learning_rate, num_iterations)\n"
      ],
      "metadata": {
        "id": "rNMKLDK6MccI"
      },
      "execution_count": null,
      "outputs": []
    },
    {
      "cell_type": "code",
      "source": [
        "plt.figure(figsize=(8, 6))\n",
        "plt.plot(range(1, num_iterations+1), cost_history, marker='o')\n",
        "plt.xlabel('Number of Iterations')\n",
        "plt.ylabel('Cost')\n",
        "plt.title('Cost vs. Number of Iterations')\n",
        "plt.grid(True)\n",
        "plt.show()\n"
      ],
      "metadata": {
        "id": "vEt1bqEUMgnk"
      },
      "execution_count": null,
      "outputs": []
    }
  ]
}