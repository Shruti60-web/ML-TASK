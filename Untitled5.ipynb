{
  "nbformat": 4,
  "nbformat_minor": 0,
  "metadata": {
    "colab": {
      "provenance": [],
      "authorship_tag": "ABX9TyOz/jot0t7yfkPjdJiuZJ6j",
      "include_colab_link": true
    },
    "kernelspec": {
      "name": "python3",
      "display_name": "Python 3"
    },
    "language_info": {
      "name": "python"
    }
  },
  "cells": [
    {
      "cell_type": "markdown",
      "metadata": {
        "id": "view-in-github",
        "colab_type": "text"
      },
      "source": [
        "<a href=\"https://colab.research.google.com/github/Shruti60-web/ML-TASK/blob/main/Untitled5.ipynb\" target=\"_parent\"><img src=\"https://colab.research.google.com/assets/colab-badge.svg\" alt=\"Open In Colab\"/></a>"
      ]
    },
    {
      "cell_type": "code",
      "source": [
        "import requests\n",
        "from bs4 import BeautifulSoup\n",
        "import pandas as pd\n",
        "\n",
        "def scrape_google_play_reviews(app_id):\n",
        "    url = f\"https://play.google.com/store/apps/details?id={app_id}&gl=us\"\n",
        "    response = requests.get(url)\n",
        "    soup = BeautifulSoup(response.content, \"html.parser\")\n",
        "    reviews = soup.find_all(\"span\", {\"jsname\": \"bN97Pc\"})\n",
        "    comments = [review.get_text() for review in reviews]\n",
        "    return comments\n",
        "\n",
        "APP_ID = \"com.avira.passwordmanager\"\n",
        "comments = scrape_google_play_reviews(APP_ID)\n"
      ],
      "metadata": {
        "id": "-IpCwWRKAQL4"
      },
      "execution_count": null,
      "outputs": []
    },
    {
      "cell_type": "code",
      "source": [
        "import nltk\n",
        "from nltk.sentiment.vader import SentimentIntensityAnalyzer\n",
        "\n",
        "nltk.download('vader_lexicon')\n",
        "\n",
        "def analyze_sentiment(comment):\n",
        "    sid = SentimentIntensityAnalyzer()\n",
        "    scores = sid.polarity_scores(comment)\n",
        "    return scores['compound']\n",
        "\n",
        "sentiment_scores = [analyze_sentiment(comment) for comment in comments]\n"
      ],
      "metadata": {
        "colab": {
          "base_uri": "https://localhost:8080/"
        },
        "id": "wzhUoXYkAnMT",
        "outputId": "a07169d1-42db-41e7-b19e-a62deb5fc66c"
      },
      "execution_count": null,
      "outputs": [
        {
          "output_type": "stream",
          "name": "stderr",
          "text": [
            "[nltk_data] Downloading package vader_lexicon to /root/nltk_data...\n"
          ]
        }
      ]
    },
    {
      "cell_type": "code",
      "source": [
        "data = {'Comment': comments, 'Sentiment Score': sentiment_scores}\n",
        "df = pd.DataFrame(data)\n",
        "\n",
        "\n",
        "df.to_csv('result.csv', index=False)\n"
      ],
      "metadata": {
        "id": "AAUuEIS3Aslo"
      },
      "execution_count": null,
      "outputs": []
    },
    {
      "cell_type": "code",
      "source": [
        "import seaborn as sns\n",
        "\n",
        "sns.histplot(df['Sentiment Score'], bins=20, kde=True)\n"
      ],
      "metadata": {
        "colab": {
          "base_uri": "https://localhost:8080/",
          "height": 466
        },
        "id": "hZUcES0MAwef",
        "outputId": "65adfe5d-c667-4878-f7be-2e777bc0d5cc"
      },
      "execution_count": null,
      "outputs": [
        {
          "output_type": "execute_result",
          "data": {
            "text/plain": [
              "<Axes: xlabel='Sentiment Score', ylabel='Count'>"
            ]
          },
          "metadata": {},
          "execution_count": 5
        },
        {
          "output_type": "display_data",
          "data": {
            "text/plain": [
              "<Figure size 640x480 with 1 Axes>"
            ],
            "image/png": "[encoded data removed]"
          },
          "metadata": {}
        }
      ]
    }
  ]
}